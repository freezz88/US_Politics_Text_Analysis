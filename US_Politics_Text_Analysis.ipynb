{
 "cells": [
  {
   "cell_type": "code",
   "execution_count": 45,
   "id": "42cc970a",
   "metadata": {},
   "outputs": [
    {
     "name": "stdout",
     "output_type": "stream",
     "text": [
      "id\n",
      "h76nzna    I had the same reasoning when I watch fox news...\n",
      "h76nzhl         Unethical fucks will always find a loophole.\n",
      "h76nyvg                                  Failed actual coup.\n",
      "h76nyuu               Why is trump even in the news anymore?\n",
      "h76nypj               And it could be my head in a basket...\n",
      "                                 ...                        \n",
      "hociwir            lil'wayne got a pardon and not them ah ah\n",
      "hociv7d    So you think it will be called unconstitutiona...\n",
      "hociupn    The left of America has out numbered the right...\n",
      "hociuet    Everyone spread the word…I just set fire on water\n",
      "hociubl    Starting to feel like congress should let DOJ ...\n",
      "Name: body, Length: 18027, dtype: object\n"
     ]
    }
   ],
   "source": [
    "'''Import der Bibliotheken'''\n",
    "import pandas as pd\n",
    "import numpy as np\n",
    "import nltk\n",
    "import gensim\n",
    "from pprint import pprint\n",
    "from sklearn.feature_extraction.text import CountVectorizer\n",
    "from sklearn.feature_extraction.text import TfidfVectorizer\n",
    "from sklearn.decomposition import TruncatedSVD\n",
    "from sklearn.decomposition import LatentDirichletAllocation\n",
    "from nltk.corpus import stopwords\n",
    "from gensim.models.coherencemodel import CoherenceModel\n",
    "import gensim.corpora as corpora\n",
    "\n",
    "'''Method for reading data from csv and save as type DataFrame (Pandas)'''\n",
    "'''index column in this special data set is the third column'''\n",
    "def inputData(url):\n",
    "    input_data_csv = pd.read_csv(url,index_col=2)\n",
    "    return input_data_csv\n",
    "    \n",
    "'''Data Input as .csv from github'''\n",
    "'''@param: ?raw=true in url important for using clean original data'''\n",
    "data_url = 'https://github.com/freezz88/US_Politics_Text_Analysis/blob/main/reddit_politics.csv?raw=true'\n",
    "data = inputData(data_url)\n",
    "#print(data)\n",
    "\n",
    "'''Filter text for the category comments'''\n",
    "'''Only show the column body, the others doesnt matter'''\n",
    "data_reviews = data['title'] == \"Comment\"\n",
    "filtered_data_list = data[data_reviews]\n",
    "#filtered_dataframe = pd.DataFrame(filtered_data_list)\n",
    "#reviews = filtered_dataframe['body']\n",
    "reviews = filtered_data_list['body']\n",
    "#reviews_string = str(reviews)\n",
    "print(reviews)"
   ]
  },
  {
   "cell_type": "code",
   "execution_count": 9,
   "id": "7e076930",
   "metadata": {},
   "outputs": [],
   "source": [
    "'''Implementation in near future'''\n",
    "def calculateBoW():\n",
    "    print(\"Method Test\")\n",
    "\n",
    "def calculateTfidf():\n",
    "    print(\"Method Test\")\n",
    "\n",
    "def calculateCoherenceScore():\n",
    "    print(\"Method Test\")\n",
    "\n",
    "def calculateLSA():\n",
    "    print(\"Method Test\")\n",
    "\n",
    "def calculateLDA():\n",
    "    print(\"Method Test\")\n",
    "\n",
    "def printNLPdata():\n",
    "    print(\"Method Test\")\n",
    "\n",
    "def plotNLPdata():\n",
    "    print(\"Method Test\")"
   ]
  },
  {
   "cell_type": "code",
   "execution_count": null,
   "id": "a3c6d00a",
   "metadata": {},
   "outputs": [],
   "source": []
  }
 ],
 "metadata": {
  "kernelspec": {
   "display_name": "Python 3 (ipykernel)",
   "language": "python",
   "name": "python3"
  },
  "language_info": {
   "codemirror_mode": {
    "name": "ipython",
    "version": 3
   },
   "file_extension": ".py",
   "mimetype": "text/x-python",
   "name": "python",
   "nbconvert_exporter": "python",
   "pygments_lexer": "ipython3",
   "version": "3.9.7"
  }
 },
 "nbformat": 4,
 "nbformat_minor": 5
}
