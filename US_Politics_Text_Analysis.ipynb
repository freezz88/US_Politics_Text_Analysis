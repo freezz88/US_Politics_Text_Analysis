{
 "cells": [
  {
   "cell_type": "code",
   "execution_count": null,
   "id": "9440e4c3",
   "metadata": {},
   "outputs": [],
   "source": [
    "'''Import der Bibliotheken'''\n",
    "\n",
    "'''Definition der Klasse und Initialisierung'''\n",
    "\n",
    "class PoliticsNLP():\n",
    "    \n",
    "    def __init__(self, datapath, chosenTopics):\n",
    "        self.datapath = datapath\n",
    "        self.chosenTopics = chosenTopics\n",
    "        \n",
    "'''Variablendeklaration'''\n",
    "\n",
    "    politicsNLP = PoliticsNLP(\"C:\\data.csv\",0)\n",
    "\n",
    "'''Eingabe'''\n",
    "\n",
    "    def inputData():\n",
    "        '''ToDo'''\n",
    "\n",
    "'''Text-Vorverarbeitung'''\n",
    "\n",
    "    def calculateBoW():\n",
    "        '''ToDo'''\n",
    "        \n",
    "    def calculateTfidf():\n",
    "        '''ToDo'''\n",
    "        \n",
    "'''Validierung'''\n",
    "\n",
    "    def calculateCoherenceScore():\n",
    "        '''ToDo'''\n",
    "        \n",
    "'''Verarbeitung'''\n",
    "        \n",
    "    def calculateLSA():\n",
    "        '''ToDo'''\n",
    "        \n",
    "    def calculateLDA():\n",
    "        '''ToDo'''\n",
    "\n",
    "'''Ausgabe'''\n",
    "\n",
    "    def printNLPdata():\n",
    "        '''ToDo'''\n",
    "        \n",
    "    def plotNLPdata():\n",
    "        '''ToDo'''"
   ]
  }
 ],
 "metadata": {
  "kernelspec": {
   "display_name": "Python 3 (ipykernel)",
   "language": "python",
   "name": "python3"
  },
  "language_info": {
   "codemirror_mode": {
    "name": "ipython",
    "version": 3
   },
   "file_extension": ".py",
   "mimetype": "text/x-python",
   "name": "python",
   "nbconvert_exporter": "python",
   "pygments_lexer": "ipython3",
   "version": "3.9.7"
  }
 },
 "nbformat": 4,
 "nbformat_minor": 5
}
